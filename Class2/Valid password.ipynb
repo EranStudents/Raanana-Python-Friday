{
 "cells": [
  {
   "cell_type": "code",
   "execution_count": 8,
   "metadata": {
    "collapsed": true,
    "ExecuteTime": {
     "start_time": "2023-05-12T09:33:00.778219Z",
     "end_time": "2023-05-12T09:33:07.907548Z"
    }
   },
   "outputs": [
    {
     "name": "stdout",
     "output_type": "stream",
     "text": [
      "Invalid password\n"
     ]
    }
   ],
   "source": [
    "password = input(\"Enter password : \")\n",
    "\n",
    "if password[0].isupper() and \\\n",
    "        password[-1].islower() and \\\n",
    "        len(password) >= 8 and\\\n",
    "        '?' in password and \\\n",
    "        '!' in password:\n",
    "    print('Valid password')\n",
    "else:\n",
    "    print('Invalid password')"
   ]
  },
  {
   "cell_type": "code",
   "execution_count": null,
   "outputs": [],
   "source": [],
   "metadata": {
    "collapsed": false
   }
  }
 ],
 "metadata": {
  "kernelspec": {
   "display_name": "Python 3",
   "language": "python",
   "name": "python3"
  },
  "language_info": {
   "codemirror_mode": {
    "name": "ipython",
    "version": 2
   },
   "file_extension": ".py",
   "mimetype": "text/x-python",
   "name": "python",
   "nbconvert_exporter": "python",
   "pygments_lexer": "ipython2",
   "version": "2.7.6"
  }
 },
 "nbformat": 4,
 "nbformat_minor": 0
}
