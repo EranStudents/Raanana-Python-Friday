{
 "cells": [
  {
   "cell_type": "code",
   "execution_count": 2,
   "metadata": {
    "collapsed": true,
    "ExecuteTime": {
     "end_time": "2023-06-16T07:24:44.786145Z",
     "start_time": "2023-06-16T07:24:44.780334Z"
    }
   },
   "outputs": [],
   "source": [
    "students = {11: 'Eran', 22: 'Lior', 33: 'Yotam'}"
   ]
  },
  {
   "cell_type": "code",
   "execution_count": 5,
   "outputs": [],
   "source": [
    "# students = {} בצורה הזו אנו יוצרים מילון ריק"
   ],
   "metadata": {
    "collapsed": false,
    "ExecuteTime": {
     "end_time": "2023-06-16T06:52:41.351564Z",
     "start_time": "2023-06-16T06:52:41.345330Z"
    }
   }
  },
  {
   "cell_type": "code",
   "execution_count": null,
   "outputs": [],
   "source": [
    "'''\n",
    "שימו לב - המפתח יכול להיות רק מספר שלם או מספר עשרוני או מחרוזת אבל הערך, כלומר ה-value יכול להיות כל דבר\n",
    " מה המפתח חייב להיות ? חייב להיות ייחודי\n",
    "'''"
   ],
   "metadata": {
    "collapsed": false
   }
  },
  {
   "cell_type": "code",
   "execution_count": 11,
   "outputs": [
    {
     "name": "stdout",
     "output_type": "stream",
     "text": [
      "Lior\n",
      "None\n"
     ]
    }
   ],
   "source": [
    "'''\n",
    "איך אני יכול לגשת לתוך ערך מסוים בתוך המילון שלי\n",
    "באמצעות הפונקציה get שמקבלת מפתח ומחזירה ערך\n",
    "לא ניתן להעביר יותר ממפתח אחד לפונקציה get\n",
    "'''\n",
    "print(students.get(22))\n",
    "print(students.get(44))  # יחזיר None במידה ולא קיים המפתח הזה"
   ],
   "metadata": {
    "collapsed": false,
    "ExecuteTime": {
     "end_time": "2023-06-16T06:55:09.364005Z",
     "start_time": "2023-06-16T06:55:09.357393Z"
    }
   }
  },
  {
   "cell_type": "code",
   "execution_count": 8,
   "outputs": [
    {
     "name": "stdout",
     "output_type": "stream",
     "text": [
      "33\n"
     ]
    }
   ],
   "source": [
    "'''\n",
    "על מנת לקבל את כל המפתחות של המילון שלי\n",
    "אני יכול להשתמש בפונקציה keys()\n",
    "מה שהיא תחזיר לנו זה את כל המפתחות במילון\n",
    "dict_name.keys()\n",
    "'''\n",
    "keys = list(students.keys())  # המרנו את המפתחות שיהיו מוכלים ברשימה\n",
    "print(keys[2])"
   ],
   "metadata": {
    "collapsed": false,
    "ExecuteTime": {
     "end_time": "2023-06-16T07:29:32.422614Z",
     "start_time": "2023-06-16T07:29:32.417407Z"
    }
   }
  },
  {
   "cell_type": "code",
   "execution_count": 7,
   "outputs": [
    {
     "name": "stdout",
     "output_type": "stream",
     "text": [
      "Eran\n"
     ]
    }
   ],
   "source": [
    "'''\n",
    "על מנת לקבל את כל הערכים של המילון שלי\n",
    "אני יכול להשתמש בפונקציה values()\n",
    "מה שהיא תחזיר לנו זה את כל valus במילון\n",
    "dict_name.values()\n",
    "'''\n",
    "values = list(students.values())  # המרנו את המפתחות שיהיו מוכלים ברשימה\n",
    "print(values[0])"
   ],
   "metadata": {
    "collapsed": false,
    "ExecuteTime": {
     "end_time": "2023-06-16T07:29:02.601230Z",
     "start_time": "2023-06-16T07:29:02.595196Z"
    }
   }
  },
  {
   "cell_type": "markdown",
   "source": [
    "Get the first and the last value of the dict without getting the key direct\n",
    "How to insert items to the dict ?"
   ],
   "metadata": {
    "collapsed": false
   }
  },
  {
   "cell_type": "code",
   "execution_count": 9,
   "outputs": [
    {
     "name": "stdout",
     "output_type": "stream",
     "text": [
      "dict_items([(11, 'Eran'), (22, 'Lior'), (33, 'Yotam')])\n"
     ]
    }
   ],
   "source": [
    "'''\n",
    "על מנת לקבל את כל ה-items של המילון שלי\n",
    "אני יכול להשתמש בפונקציה items()\n",
    "שתחזיר לנו גם את המפתח וגם את הערך\n",
    "dict_name.items()\n",
    "'''\n",
    "print(students.items())  # אין בעיה להמיר לרשימה"
   ],
   "metadata": {
    "collapsed": false,
    "ExecuteTime": {
     "end_time": "2023-06-16T07:30:02.990415Z",
     "start_time": "2023-06-16T07:30:02.981985Z"
    }
   }
  },
  {
   "cell_type": "code",
   "execution_count": null,
   "outputs": [],
   "source": [
    "# המטרה: להדפיס את הערך ה-1 במילון ואת הערך האחרון במילון\n",
    "# אבל - תצאו מנקודת הנחה שאתם לא יודעים מה המפתחות ומה הערכים\n",
    "# כלומר לא ניתן לבצע את קטע הקוד הבא : students.get(11)\n",
    "# כמובן שיש צורך להשתמש בפונקציה get אבל יש צורך לחשוב קצת לפני"
   ],
   "metadata": {
    "collapsed": false
   }
  },
  {
   "cell_type": "markdown",
   "source": [],
   "metadata": {
    "collapsed": false
   }
  }
 ],
 "metadata": {
  "kernelspec": {
   "display_name": "Python 3",
   "language": "python",
   "name": "python3"
  },
  "language_info": {
   "codemirror_mode": {
    "name": "ipython",
    "version": 2
   },
   "file_extension": ".py",
   "mimetype": "text/x-python",
   "name": "python",
   "nbconvert_exporter": "python",
   "pygments_lexer": "ipython2",
   "version": "2.7.6"
  }
 },
 "nbformat": 4,
 "nbformat_minor": 0
}
