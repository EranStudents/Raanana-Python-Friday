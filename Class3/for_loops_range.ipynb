{
  "nbformat": 4,
  "nbformat_minor": 0,
  "metadata": {
    "colab": {
      "provenance": []
    },
    "kernelspec": {
      "name": "python3",
      "display_name": "Python 3"
    },
    "language_info": {
      "name": "python"
    }
  },
  "cells": [
    {
      "cell_type": "markdown",
      "source": [
        "לולאות פור היא לולאה שאנחנו משתמשים בה כאשר אנחנו יודעים כמה סיבובים אנחנו רוצים לעשות או כאשר נרצה לעבור על מחרוזת או רשימה"
      ],
      "metadata": {
        "id": "kMZbPB083IGH"
      }
    },
    {
      "cell_type": "code",
      "execution_count": 12,
      "metadata": {
        "id": "obIYiH-d1FKC"
      },
      "outputs": [],
      "source": [
        "numbers = [1,5,7,8,'hello',[1,4,6]]\n",
        "#          0 1 2 3    4     5"
      ]
    },
    {
      "cell_type": "code",
      "source": [
        "for i in numbers:\n",
        "  print(f'i = {i}')\n",
        "\n"
      ],
      "metadata": {
        "colab": {
          "base_uri": "https://localhost:8080/"
        },
        "id": "0_jRVeCM3WvD",
        "outputId": "4d132ef8-41b4-4173-cbdd-a078bf62517e"
      },
      "execution_count": 11,
      "outputs": [
        {
          "output_type": "stream",
          "name": "stdout",
          "text": [
            "i = 1\n",
            "i = 5\n",
            "i = 7\n",
            "i = 8\n",
            "i = hello\n",
            "i = [1, 4, 6]\n"
          ]
        }
      ]
    },
    {
      "cell_type": "markdown",
      "source": [
        "# numbers = [1,5,7,8,'hello',[1,4,6]]"
      ],
      "metadata": {
        "id": "x5u_rubb9u1w"
      }
    },
    {
      "cell_type": "code",
      "source": [
        "for ele in numbers:\n",
        "  if type(ele) is str:\n",
        "    for letter in ele:\n",
        "      print(letter.upper())"
      ],
      "metadata": {
        "colab": {
          "base_uri": "https://localhost:8080/"
        },
        "id": "15EG8Unj_oxd",
        "outputId": "e6c34a47-2110-4cfc-aea1-08083e82ffef"
      },
      "execution_count": 16,
      "outputs": [
        {
          "output_type": "stream",
          "name": "stdout",
          "text": [
            "H\n",
            "E\n",
            "L\n",
            "L\n",
            "O\n"
          ]
        }
      ]
    },
    {
      "cell_type": "code",
      "source": [
        "for element in numbers:\n",
        "  if type(element) is int or type(element) is list:\n",
        "    print(element)"
      ],
      "metadata": {
        "colab": {
          "base_uri": "https://localhost:8080/"
        },
        "id": "z_1_vMvR9zWj",
        "outputId": "0e47472e-6acc-403f-f33b-d275f8997b17"
      },
      "execution_count": 14,
      "outputs": [
        {
          "output_type": "stream",
          "name": "stdout",
          "text": [
            "1\n",
            "5\n",
            "7\n",
            "8\n",
            "[1, 4, 6]\n"
          ]
        }
      ]
    },
    {
      "cell_type": "code",
      "source": [
        "for element in numbers:\n",
        "  if type(element) is list:\n",
        "    for num in element:\n",
        "      print(num)"
      ],
      "metadata": {
        "colab": {
          "base_uri": "https://localhost:8080/"
        },
        "id": "NPj8vu1b-pTg",
        "outputId": "ace17ba7-24e6-4c09-d7a3-e0e90fc94c4e"
      },
      "execution_count": 15,
      "outputs": [
        {
          "output_type": "stream",
          "name": "stdout",
          "text": [
            "1\n",
            "4\n",
            "6\n"
          ]
        }
      ]
    },
    {
      "cell_type": "markdown",
      "source": [
        "לולאה שנייה\n",
        "for loop\n",
        "for i in range(start,end,step):\n",
        "  code..\n",
        "  code..\n",
        "\n",
        "מבצע את קטע הקוד כמות מסוימת של פעמים"
      ],
      "metadata": {
        "id": "b7ZJZs2XCjP9"
      }
    },
    {
      "cell_type": "code",
      "source": [
        "for i in range(10):\n",
        "  if i % 3 == 0:\n",
        "    print(i)"
      ],
      "metadata": {
        "colab": {
          "base_uri": "https://localhost:8080/"
        },
        "id": "xAWeQPIjCsnC",
        "outputId": "c952007e-e6ad-498f-90f2-49d100e64445"
      },
      "execution_count": 19,
      "outputs": [
        {
          "output_type": "stream",
          "name": "stdout",
          "text": [
            "0\n",
            "3\n",
            "6\n",
            "9\n"
          ]
        }
      ]
    },
    {
      "cell_type": "code",
      "source": [
        "for i in range(len(numbers)):\n",
        "  print(numbers[i])"
      ],
      "metadata": {
        "colab": {
          "base_uri": "https://localhost:8080/"
        },
        "id": "FpZT23LuCyUm",
        "outputId": "a3eed70b-742f-405f-c12e-f94989243c52"
      },
      "execution_count": 20,
      "outputs": [
        {
          "output_type": "stream",
          "name": "stdout",
          "text": [
            "1\n",
            "5\n",
            "7\n",
            "8\n",
            "hello\n",
            "[1, 4, 6]\n"
          ]
        }
      ]
    },
    {
      "cell_type": "code",
      "source": [
        "for i in range(0,11,2):\n",
        "  print(i)"
      ],
      "metadata": {
        "colab": {
          "base_uri": "https://localhost:8080/"
        },
        "id": "M0CwJpKUC70M",
        "outputId": "7006e639-a6aa-4f89-b98f-fb21a961b8a8"
      },
      "execution_count": 21,
      "outputs": [
        {
          "output_type": "stream",
          "name": "stdout",
          "text": [
            "0\n",
            "2\n",
            "4\n",
            "6\n",
            "8\n",
            "10\n"
          ]
        }
      ]
    },
    {
      "cell_type": "code",
      "source": [
        "for i in range(10,-1,-1): # ידפיס את כל המספרים בין 10 ל-0 בסדר יורד\n",
        "  print(i)"
      ],
      "metadata": {
        "colab": {
          "base_uri": "https://localhost:8080/"
        },
        "id": "SLvZcq2kDD9A",
        "outputId": "98a92b5a-87ae-41ae-9875-bdbd6a5fc5aa"
      },
      "execution_count": 23,
      "outputs": [
        {
          "output_type": "stream",
          "name": "stdout",
          "text": [
            "10\n",
            "9\n",
            "8\n",
            "7\n",
            "6\n",
            "5\n",
            "4\n",
            "3\n",
            "2\n",
            "1\n",
            "0\n"
          ]
        }
      ]
    }
  ]
}