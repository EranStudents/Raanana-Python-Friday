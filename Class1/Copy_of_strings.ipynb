{
  "cells": [
    {
      "cell_type": "markdown",
      "source": [
        "Strings = מחרוזות"
      ],
      "metadata": {
        "collapsed": false,
        "id": "_AcdwyAfPAaQ"
      }
    },
    {
      "cell_type": "code",
      "execution_count": null,
      "metadata": {
        "collapsed": true,
        "ExecuteTime": {
          "start_time": "2023-04-21T10:50:58.574191Z",
          "end_time": "2023-04-21T10:50:58.576833Z"
        },
        "id": "N5fNf3bbPAaU"
      },
      "outputs": [],
      "source": [
        "name = 'Eran Levy'\n",
        "#       012345678\n",
        "\n",
        "print(f'The length of my name is {len(name)}')"
      ]
    },
    {
      "cell_type": "markdown",
      "source": [
        " אם אני רוצה להגיע לתו מסוים בתוך המחרוזת"
      ],
      "metadata": {
        "collapsed": false,
        "id": "pjG4kamsPAaV"
      }
    },
    {
      "cell_type": "code",
      "execution_count": null,
      "outputs": [],
      "source": [
        "print(f'name[5] = {name[5]}')"
      ],
      "metadata": {
        "ExecuteTime": {
          "start_time": "2023-04-21T10:53:12.478777Z",
          "end_time": "2023-04-21T10:53:12.486065Z"
        },
        "id": "5aXgmkf8PAaV"
      }
    },
    {
      "cell_type": "code",
      "execution_count": null,
      "outputs": [],
      "source": [
        "print(f'name[9] = {name[9]}')"
      ],
      "metadata": {
        "id": "VMhSJJHhPAaV"
      }
    },
    {
      "cell_type": "code",
      "execution_count": null,
      "outputs": [],
      "source": [
        "print(f'name[-1] = {name[-1]}')"
      ],
      "metadata": {
        "ExecuteTime": {
          "start_time": "2023-04-21T10:58:12.775446Z",
          "end_time": "2023-04-21T10:58:12.779735Z"
        },
        "id": "B_PwP3G3PAaV"
      }
    },
    {
      "cell_type": "markdown",
      "source": [
        "string_name [start(default=0):end(not included,default=end):step\n",
        "name = 'Eran Levy'"
      ],
      "metadata": {
        "collapsed": false,
        "id": "vIc3SGojPAaW"
      }
    },
    {
      "cell_type": "code",
      "execution_count": null,
      "outputs": [
        {
          "name": "stdout",
          "output_type": "stream",
          "text": [
            "print(name[::2] = Ea ey\n"
          ]
        }
      ],
      "source": [
        "print(f'print(name[::2] = {name[::2]}')"
      ],
      "metadata": {
        "ExecuteTime": {
          "start_time": "2023-04-21T11:08:17.906860Z",
          "end_time": "2023-04-21T11:08:17.912172Z"
        },
        "id": "sZQC9pdOPAaW",
        "outputId": "74f00f9a-c7b9-47c0-d36e-6b2f63b7949c"
      }
    },
    {
      "cell_type": "code",
      "execution_count": null,
      "outputs": [
        {
          "name": "stdout",
          "output_type": "stream",
          "text": [
            "print(name[::-1] = yveL narE\n"
          ]
        }
      ],
      "source": [
        "print(f'print(name[::-1] = {name[::-1]}')\n"
      ],
      "metadata": {
        "ExecuteTime": {
          "start_time": "2023-04-21T11:09:34.391310Z",
          "end_time": "2023-04-21T11:09:34.398492Z"
        },
        "id": "qrDX_-6dPAaX",
        "outputId": "69a538b6-8c3a-4a58-da81-38801a0e5e7c"
      }
    },
    {
      "cell_type": "markdown",
      "source": [
        "print the last 3 letters in my name"
      ],
      "metadata": {
        "collapsed": false,
        "id": "k-rtsvFJPAaX"
      }
    },
    {
      "cell_type": "code",
      "execution_count": null,
      "outputs": [
        {
          "name": "stdout",
          "output_type": "stream",
          "text": [
            "print(name[-3:] = evy\n"
          ]
        }
      ],
      "source": [
        "print(f'print(name[-3:] = {name[-3:]}')"
      ],
      "metadata": {
        "ExecuteTime": {
          "start_time": "2023-04-21T11:12:39.254578Z",
          "end_time": "2023-04-21T11:12:39.264345Z"
        },
        "id": "Poacw8z4PAaX",
        "outputId": "2543b39f-7020-427c-bcf5-acda3a00f934"
      }
    },
    {
      "cell_type": "markdown",
      "source": [
        "פונקציה מספר 1 - קוראים לה upper()\n",
        " אנו קוראים לפונקציה דרך מחרוזת ומה שהיא עושה\n",
        " זה פשוט הופכת את האותיות לאותיות גדולות"
      ],
      "metadata": {
        "collapsed": false,
        "id": "u6efdJooPAaX"
      }
    },
    {
      "cell_type": "code",
      "execution_count": null,
      "outputs": [
        {
          "name": "stdout",
          "output_type": "stream",
          "text": [
            "ERAN LEVY\n"
          ]
        }
      ],
      "source": [
        "print(name.upper())"
      ],
      "metadata": {
        "ExecuteTime": {
          "start_time": "2023-04-21T11:17:31.511050Z",
          "end_time": "2023-04-21T11:17:31.517215Z"
        },
        "id": "XcJNuvFTPAaY",
        "outputId": "e0769318-e336-4ff7-897f-334c815ce5d2"
      }
    },
    {
      "cell_type": "markdown",
      "source": [
        "פונקציה מספר 2 - קוראים לה lower()\n",
        " אנו קוראים לפונקציה דרך מחרוזת ומה שהיא עושה\n",
        " זה פשוט הופכת את האותיות לאותיות גדולות"
      ],
      "metadata": {
        "collapsed": false,
        "id": "wXNnkdVcPAaY"
      }
    },
    {
      "cell_type": "code",
      "execution_count": null,
      "outputs": [
        {
          "name": "stdout",
          "output_type": "stream",
          "text": [
            "eran levy\n"
          ]
        }
      ],
      "source": [
        "print(name.lower())"
      ],
      "metadata": {
        "ExecuteTime": {
          "start_time": "2023-04-21T11:17:39.295257Z",
          "end_time": "2023-04-21T11:17:39.305394Z"
        },
        "id": "vkf6WYgAPAaY",
        "outputId": "e6e84cef-d7ba-4ceb-c728-86b3cef0060e"
      }
    },
    {
      "cell_type": "code",
      "execution_count": null,
      "outputs": [
        {
          "name": "stdout",
          "output_type": "stream",
          "text": [
            "ERAN \n"
          ]
        }
      ],
      "source": [
        "print(name[0:5].upper())"
      ],
      "metadata": {
        "ExecuteTime": {
          "start_time": "2023-04-21T11:18:42.135031Z",
          "end_time": "2023-04-21T11:18:42.143290Z"
        },
        "id": "00RUbKrFPAaY",
        "outputId": "20fb9ca1-4b39-439e-e8f1-4aa960deb6cf"
      }
    },
    {
      "cell_type": "markdown",
      "source": [
        "פונקציה מספר 3 - זוהי הפונקציה isupper()\n",
        "מפעילים אותה על מחרוזת והיא מחזירה אמת או שקר לגבי האם היא אות גדולה או לא\n",
        "מספיק שתו אחד הוא אות קטנה - הפונקציה תחזיר שקר\n",
        "על מנת שהפונקציה תחזיר אמת - כל המחרוזת צריכה להיות עם אותיות גדולות\n",
        "\n",
        "פונקציה מספר 4 - זוהי הפונקציה islower()\n",
        "מפעילים אותה על מחרוזת והיא מחזירה אמת או שקר לגבי האם היא אות קטנה או לא\n",
        "מספיק שתו אחד הוא אות גדולה - הפונקציה תחזיר שקר\n",
        "על מנת שהפונקציה תחזיר אמת - כל המחרוזת צריכה להיות עם אותיות קטנות"
      ],
      "metadata": {
        "collapsed": false,
        "id": "ZvtUAVfePAaY"
      }
    },
    {
      "cell_type": "code",
      "execution_count": null,
      "outputs": [
        {
          "name": "stdout",
          "output_type": "stream",
          "text": [
            "True\n"
          ]
        }
      ],
      "source": [
        "x = 'My name'\n",
        "# x.upper()\n",
        "x = x.upper()\n",
        "print(x.isupper())"
      ],
      "metadata": {
        "ExecuteTime": {
          "start_time": "2023-04-21T11:24:09.453354Z",
          "end_time": "2023-04-21T11:24:09.456291Z"
        },
        "id": "IPlRIPnzPAaZ",
        "outputId": "cc036097-91f6-46b8-cdb8-33c010a0c35b"
      }
    },
    {
      "cell_type": "markdown",
      "source": [],
      "metadata": {
        "collapsed": false,
        "id": "JF4E_yx1PAaZ"
      }
    },
    {
      "cell_type": "markdown",
      "source": [
        "את הפונקציה find אנו מפעילים על משתנה מסוג מחרוזת\n",
        "ומה שהיא עושה זה מחזירה לך את המיקום של האות הראשונה של מה שאתה מחפש\n",
        "ואם לא מצאת - הפונקציה תחזיר 1-\n",
        "\n",
        "# Eran levy"
      ],
      "metadata": {
        "collapsed": false,
        "id": "kFOBlrZBPAaZ"
      }
    },
    {
      "cell_type": "code",
      "execution_count": null,
      "outputs": [
        {
          "name": "stdout",
          "output_type": "stream",
          "text": [
            "name.find(\"n\") = -1\n"
          ]
        }
      ],
      "source": [
        "print(f'name.find(\"n\") = {name.find(\"nn\")}')"
      ],
      "metadata": {
        "ExecuteTime": {
          "start_time": "2023-04-21T11:27:46.127944Z",
          "end_time": "2023-04-21T11:27:46.144182Z"
        },
        "id": "WgECKn16PAaZ",
        "outputId": "1a4d6850-0f40-4a26-e440-a19e16692168"
      }
    },
    {
      "cell_type": "code",
      "execution_count": null,
      "outputs": [
        {
          "name": "stdout",
          "output_type": "stream",
          "text": [
            "name.find(\"an\") = 2\n"
          ]
        }
      ],
      "source": [
        "print(f'name.find(\"an\") = {name.find(\"an\")}')"
      ],
      "metadata": {
        "ExecuteTime": {
          "start_time": "2023-04-21T11:28:12.307770Z",
          "end_time": "2023-04-21T11:28:12.321689Z"
        },
        "id": "s9Dbofs2PAaZ",
        "outputId": "68a23274-deda-4a7c-d0b4-083b6c0b5df8"
      }
    },
    {
      "cell_type": "code",
      "execution_count": null,
      "outputs": [
        {
          "name": "stdout",
          "output_type": "stream",
          "text": [
            "name.find(\"er\") = -1\n"
          ]
        }
      ],
      "source": [
        "print(f'name.find(\"er\") = {name.find(\"er\")}')"
      ],
      "metadata": {
        "ExecuteTime": {
          "start_time": "2023-04-21T11:29:27.747481Z",
          "end_time": "2023-04-21T11:29:27.758485Z"
        },
        "id": "rZt-A0EGPAaZ",
        "outputId": "7d995480-3397-466a-9f15-6f21bc342415"
      }
    },
    {
      "cell_type": "code",
      "execution_count": null,
      "outputs": [
        {
          "name": "stdout",
          "output_type": "stream",
          "text": [
            "name.find(\"rn\") = -1\n"
          ]
        }
      ],
      "source": [
        "print(f'name.find(\"rn\") = {name.find(\"rn\")}')"
      ],
      "metadata": {
        "ExecuteTime": {
          "start_time": "2023-04-21T11:31:09.919056Z",
          "end_time": "2023-04-21T11:31:09.932605Z"
        },
        "id": "K8-AaTcCPAaa",
        "outputId": "3653bd8c-e54e-4535-e59e-acdadf2cae7c"
      }
    },
    {
      "cell_type": "markdown",
      "source": [
        "הפונקציה count (בעברית לספור) מופעלת על מחרוזת\n",
        "ומה שהיא מקבלת זה תת מחרוזת\n",
        "ומה שהיא מחזירה זה את כמות המופעים שלה - כלומר כמות הפעמים שהיא מופיעה\n",
        "\n",
        "# Eran Levy"
      ],
      "metadata": {
        "collapsed": false,
        "id": "pMgmmq1GPAaa"
      }
    },
    {
      "cell_type": "code",
      "execution_count": null,
      "outputs": [
        {
          "name": "stdout",
          "output_type": "stream",
          "text": [
            "name.count(\"E\") = 0\n"
          ]
        }
      ],
      "source": [
        "print(f'name.count(\"EE\") = {name.count(\"EE\")}')"
      ],
      "metadata": {
        "ExecuteTime": {
          "start_time": "2023-04-21T11:38:38.339217Z",
          "end_time": "2023-04-21T11:38:38.362083Z"
        },
        "id": "iMzorMAiPAaa",
        "outputId": "c0d44be7-a3d4-4104-e8a7-fea0366ca561"
      }
    },
    {
      "cell_type": "code",
      "execution_count": null,
      "outputs": [
        {
          "name": "stdout",
          "output_type": "stream",
          "text": [
            "name.count(\"E\") = 1\n"
          ]
        }
      ],
      "source": [
        "print(f'name.count(\"E\") = {name.count(\"E\")}')\n"
      ],
      "metadata": {
        "ExecuteTime": {
          "start_time": "2023-04-21T11:39:00.034479Z",
          "end_time": "2023-04-21T11:39:00.048354Z"
        },
        "id": "cRuaUa8qPAaa",
        "outputId": "1606bca2-6896-4453-c248-52e930898de3"
      }
    },
    {
      "cell_type": "code",
      "execution_count": null,
      "outputs": [
        {
          "name": "stdout",
          "output_type": "stream",
          "text": [
            "name.count(\" \") = 1\n"
          ]
        }
      ],
      "source": [
        "print(f'name.count(\" \") = {name.count(\" \")}')\n"
      ],
      "metadata": {
        "ExecuteTime": {
          "start_time": "2023-04-21T11:39:33.706548Z",
          "end_time": "2023-04-21T11:39:33.721494Z"
        },
        "id": "sFuRl9cAPAaa",
        "outputId": "7043b355-36de-416c-c73c-09d76b88cfd2"
      }
    },
    {
      "cell_type": "markdown",
      "source": [
        "[from:till:step]"
      ],
      "metadata": {
        "collapsed": false,
        "id": "-etqLMD2PAaa"
      }
    },
    {
      "cell_type": "code",
      "execution_count": null,
      "outputs": [
        {
          "name": "stdout",
          "output_type": "stream",
          "text": [
            "name[::2].count(\"e\") = 1\n"
          ]
        }
      ],
      "source": [
        "print(f'name[::2].count(\"e\") = {name[::2].count(\"e\")}')\n"
      ],
      "metadata": {
        "ExecuteTime": {
          "start_time": "2023-04-21T11:42:27.686721Z",
          "end_time": "2023-04-21T11:42:27.692861Z"
        },
        "id": "1DT6mGQkPAaa",
        "outputId": "7603edce-7f34-4e05-9189-62f07bbb5705"
      }
    },
    {
      "cell_type": "markdown",
      "source": [
        "replace - להחליף\n",
        "הפונקציה replace מופעלת על מחרוזות\n",
        "והיא מקבלת 2 תווים או תתי מחרוזת\n",
        "ומחליפה כל מופע של התו הראשון בשני"
      ],
      "metadata": {
        "collapsed": false,
        "id": "kNFotsWuPAab"
      }
    },
    {
      "cell_type": "code",
      "execution_count": null,
      "outputs": [],
      "source": [],
      "metadata": {
        "id": "rzT2mg-GPAab"
      }
    }
  ],
  "metadata": {
    "kernelspec": {
      "display_name": "Python 3",
      "language": "python",
      "name": "python3"
    },
    "language_info": {
      "codemirror_mode": {
        "name": "ipython",
        "version": 2
      },
      "file_extension": ".py",
      "mimetype": "text/x-python",
      "name": "python",
      "nbconvert_exporter": "python",
      "pygments_lexer": "ipython2",
      "version": "2.7.6"
    },
    "colab": {
      "provenance": []
    }
  },
  "nbformat": 4,
  "nbformat_minor": 0
}