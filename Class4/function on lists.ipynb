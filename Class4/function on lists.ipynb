{
 "cells": [
  {
   "cell_type": "code",
   "execution_count": null,
   "metadata": {
    "collapsed": true
   },
   "outputs": [],
   "source": [
    "# בחלק הזה אנחנו נדבר על פונקציות שקשורות לרשימות\n",
    "\n",
    "my_list = [6, 6.8, 94, \"94\", \"eran\", [9, 12, \"levy\"]]\n",
    "#          0   1    2    3     4           5"
   ]
  },
  {
   "cell_type": "code",
   "execution_count": null,
   "outputs": [],
   "source": [
    "# function N.1\n",
    "# len() - מחזירה את כמות האיברים ברשימה\n",
    "\n",
    "print(f'The length of the list is {len(my_list)}')"
   ],
   "metadata": {
    "collapsed": false
   }
  },
  {
   "cell_type": "code",
   "execution_count": 19,
   "outputs": [
    {
     "name": "stdout",
     "output_type": "stream",
     "text": [
      "11.2\n"
     ]
    }
   ],
   "source": [
    "# function N.2\n",
    "# sum() --> סכום\n",
    "# הפונקציה sum מקבלת רשימה ומחזירה את סכום האיברים בה\n",
    "# שימו לב - האיברים ברשימה חייבים להיות מספרים בלבד.\n",
    "numbers = [1, 4, 5, -7, 8.2]\n",
    "print(sum(numbers))"
   ],
   "metadata": {
    "collapsed": false,
    "ExecuteTime": {
     "end_time": "2023-06-02T08:21:09.658021Z",
     "start_time": "2023-06-02T08:21:09.649018Z"
    }
   }
  },
  {
   "cell_type": "code",
   "execution_count": 20,
   "outputs": [
    {
     "name": "stdout",
     "output_type": "stream",
     "text": [
      "[1, 4, 5, -7, 8.2, 'hello', 25]\n"
     ]
    }
   ],
   "source": [
    "# function N.3\n",
    "# append()\n",
    "# מה ש-append עושה היא מוסיפה איברים לרשימה (לסוף שלה)\n",
    "num = 25\n",
    "numbers.append(\"hello\")\n",
    "numbers.append(num) # מוסיף לסוף\n",
    "print(numbers)"
   ],
   "metadata": {
    "collapsed": false,
    "ExecuteTime": {
     "end_time": "2023-06-02T08:21:11.590191Z",
     "start_time": "2023-06-02T08:21:11.584743Z"
    }
   }
  },
  {
   "cell_type": "markdown",
   "source": [
    "# [1, 4, 5, -7, 8.2, 'hello', 25]\n",
    "   0  1  2   3   4     5      6"
   ],
   "metadata": {
    "collapsed": false
   }
  },
  {
   "cell_type": "code",
   "execution_count": 21,
   "outputs": [
    {
     "name": "stdout",
     "output_type": "stream",
     "text": [
      "[1, 4, 'Im new', 5, -7, 8.2, 'hello', 25]\n"
     ]
    }
   ],
   "source": [
    "# function N.4\n",
    "# insert(index,value)\n",
    "# הפונקציה מקבלת 2 פרמטרים: ה-index זה המיקום שאני רוצה לשים בו את האיבר\n",
    "# וה-value זה האיבר עצמו\n",
    "numbers.insert(2, \"Im new\")\n",
    "print(numbers)  # אחרי העדכון Im new יתווסף"
   ],
   "metadata": {
    "collapsed": false,
    "ExecuteTime": {
     "end_time": "2023-06-02T08:21:14.002734Z",
     "start_time": "2023-06-02T08:21:13.997163Z"
    }
   }
  },
  {
   "cell_type": "code",
   "execution_count": 22,
   "outputs": [
    {
     "name": "stdout",
     "output_type": "stream",
     "text": [
      "[1, 4, 5, -7, 8.2, 'hello', 25]\n",
      "[1, 4, 5, -7, 8.2, 'hello', 25]\n"
     ]
    }
   ],
   "source": [
    "# function N.5\n",
    "# remove()\n",
    "# הפונקציה remove תאפשר לנו למחוק איבר מתוך הרשימה על פי הערך שלו\n",
    "numbers.remove(\"Im new\")\n",
    "print(numbers)\n",
    "# numbers.remove([6.6, 89]) # ניתן למחוק רשימה גם כן כמו שאר המשתנים\n",
    "# print(numbers)"
   ],
   "metadata": {
    "collapsed": false,
    "ExecuteTime": {
     "end_time": "2023-06-02T08:21:16.787817Z",
     "start_time": "2023-06-02T08:21:16.782961Z"
    }
   }
  },
  {
   "cell_type": "code",
   "execution_count": 23,
   "outputs": [
    {
     "name": "stdout",
     "output_type": "stream",
     "text": [
      "number = 1\n",
      "[4, 5, -7, 8.2, 'hello', 25]\n"
     ]
    }
   ],
   "source": [
    "# numbers = [1, 4, 5, -7, 8.2, 'hello', 25]\n",
    "\n",
    "# function N.6\n",
    "# pop\n",
    "# הפונקציה pop מוחקת ומחזירה את האיבר שרוצים למחוק על פי המיקום שלו\n",
    "number = numbers.pop(0)  # מוחק את האיבר מהרשימה ושומר אותו במשתנה\n",
    "print(f'number = {number}')\n",
    "print(f'after delete : {numbers}')"
   ],
   "metadata": {
    "collapsed": false,
    "ExecuteTime": {
     "end_time": "2023-06-02T08:27:22.535166Z",
     "start_time": "2023-06-02T08:27:22.526051Z"
    }
   }
  },
  {
   "cell_type": "code",
   "execution_count": 24,
   "outputs": [
    {
     "name": "stdout",
     "output_type": "stream",
     "text": [
      "after sort my_letters : ['aviv', 'elad', 'eliya', 'eran', 'liran']\n"
     ]
    }
   ],
   "source": [
    "# function N.7\n",
    "# sort()\n",
    "my_numbers = [0, -8, 12, 65, 43, 87]\n",
    "\n",
    "my_letters = [\"eran\", \"liran\", \"elad\", \"aviv\", \"eliya\"]\n",
    "my_letters.sort()\n",
    "print(f'after sort my_letters : {my_letters}')"
   ],
   "metadata": {
    "collapsed": false,
    "ExecuteTime": {
     "end_time": "2023-06-02T08:31:23.569978Z",
     "start_time": "2023-06-02T08:31:23.564715Z"
    }
   }
  },
  {
   "cell_type": "code",
   "execution_count": null,
   "outputs": [],
   "source": [
    "# מיון רגיל, מהקטן לגדול\n",
    "my_numbers.sort()\n",
    "print(f\"from high to low {my_numbers}\")"
   ],
   "metadata": {
    "collapsed": false
   }
  },
  {
   "cell_type": "code",
   "execution_count": null,
   "outputs": [],
   "source": [
    "# איך נמיין בצורה הפוכה, מהגדול לקטן\n",
    "my_numbers.sort(reverse=True)\n",
    "print(f\"from low to high {my_numbers}\")"
   ],
   "metadata": {
    "collapsed": false
   }
  },
  {
   "cell_type": "code",
   "execution_count": null,
   "outputs": [],
   "source": [
    "# function N.8\n",
    "# index\n",
    "# הפונקציה index מקבלת ערך מסוים ומחזירה את האינדקס שלו\n",
    "print(my_numbers.index(0))  # יחזיר 4 אחרי מיון מהגדול לקטן במיקום החדש שלו"
   ],
   "metadata": {
    "collapsed": false
   }
  }
 ],
 "metadata": {
  "kernelspec": {
   "display_name": "Python 3",
   "language": "python",
   "name": "python3"
  },
  "language_info": {
   "codemirror_mode": {
    "name": "ipython",
    "version": 2
   },
   "file_extension": ".py",
   "mimetype": "text/x-python",
   "name": "python",
   "nbconvert_exporter": "python",
   "pygments_lexer": "ipython2",
   "version": "2.7.6"
  }
 },
 "nbformat": 4,
 "nbformat_minor": 0
}
